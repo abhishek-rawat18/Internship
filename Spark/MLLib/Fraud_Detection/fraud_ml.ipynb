{
 "cells": [
  {
   "cell_type": "code",
   "execution_count": 1,
   "metadata": {},
   "outputs": [
    {
     "data": {
      "text/html": [
       "\n",
       "        <div>\n",
       "            <p><b>SparkContext</b></p>\n",
       "\n",
       "            <p><a href=\"http://AbhishekRawat:4040\">Spark UI</a></p>\n",
       "\n",
       "            <dl>\n",
       "              <dt>Version</dt>\n",
       "                <dd><code>v2.3.3</code></dd>\n",
       "              <dt>Master</dt>\n",
       "                <dd><code>local[*]</code></dd>\n",
       "              <dt>AppName</dt>\n",
       "                <dd><code>PySparkShell</code></dd>\n",
       "            </dl>\n",
       "        </div>\n",
       "        "
      ],
      "text/plain": [
       "<SparkContext master=local[*] appName=PySparkShell>"
      ]
     },
     "execution_count": 1,
     "metadata": {},
     "output_type": "execute_result"
    }
   ],
   "source": [
    "sc"
   ]
  },
  {
   "cell_type": "code",
   "execution_count": 2,
   "metadata": {},
   "outputs": [],
   "source": [
    "rdd=sc.textFile(\"C:/Users/Abhishek/Downloads/credit_card.csv\")"
   ]
  },
  {
   "cell_type": "code",
   "execution_count": 3,
   "metadata": {},
   "outputs": [
    {
     "data": {
      "text/plain": [
       "['step,type,amount,nameOrig,oldbalanceOrg,newbalanceOrig,nameDest,oldbalanceDest,newbalanceDest,isFraud,isFlaggedFraud',\n",
       " '1,PAYMENT,9839.64,C1231006815,170136.0,160296.36,M1979787155,0.0,0.0,0,0',\n",
       " '1,PAYMENT,1864.28,C1666544295,21249.0,19384.72,M2044282225,0.0,0.0,0,0',\n",
       " '1,TRANSFER,181.0,C1305486145,181.0,0.0,C553264065,0.0,0.0,1,0',\n",
       " '1,CASH_OUT,181.0,C840083671,181.0,0.0,C38997010,21182.0,0.0,1,0']"
      ]
     },
     "execution_count": 3,
     "metadata": {},
     "output_type": "execute_result"
    }
   ],
   "source": [
    "rdd.take(5)"
   ]
  },
  {
   "cell_type": "code",
   "execution_count": 4,
   "metadata": {},
   "outputs": [
    {
     "data": {
      "text/plain": [
       "'step,type,amount,nameOrig,oldbalanceOrg,newbalanceOrig,nameDest,oldbalanceDest,newbalanceDest,isFraud,isFlaggedFraud'"
      ]
     },
     "execution_count": 4,
     "metadata": {},
     "output_type": "execute_result"
    }
   ],
   "source": [
    "header=rdd.first()\n",
    "header"
   ]
  },
  {
   "cell_type": "code",
   "execution_count": 5,
   "metadata": {},
   "outputs": [
    {
     "name": "stdout",
     "output_type": "stream",
     "text": [
      "['step', 'type', 'amount', 'nameOrig', 'oldbalanceOrg', 'newbalanceOrig', 'nameDest', 'oldbalanceDest', 'newbalanceDest', 'isFraud', 'isFlaggedFraud']\n"
     ]
    }
   ],
   "source": [
    "headers=header.split(\",\")\n",
    "print(headers)"
   ]
  },
  {
   "cell_type": "code",
   "execution_count": 6,
   "metadata": {},
   "outputs": [
    {
     "data": {
      "text/plain": [
       "['1,PAYMENT,9839.64,C1231006815,170136.0,160296.36,M1979787155,0.0,0.0,0,0',\n",
       " '1,PAYMENT,1864.28,C1666544295,21249.0,19384.72,M2044282225,0.0,0.0,0,0']"
      ]
     },
     "execution_count": 6,
     "metadata": {},
     "output_type": "execute_result"
    }
   ],
   "source": [
    "#Removing the header from the RDD\n",
    "\n",
    "rdd=rdd.filter(lambda line:line!=header)\n",
    "rdd.take(2)"
   ]
  },
  {
   "cell_type": "code",
   "execution_count": 7,
   "metadata": {},
   "outputs": [
    {
     "data": {
      "text/plain": [
       "[['1',\n",
       "  'PAYMENT',\n",
       "  '9839.64',\n",
       "  'C1231006815',\n",
       "  '170136.0',\n",
       "  '160296.36',\n",
       "  'M1979787155',\n",
       "  '0.0',\n",
       "  '0.0',\n",
       "  '0',\n",
       "  '0'],\n",
       " ['1',\n",
       "  'PAYMENT',\n",
       "  '1864.28',\n",
       "  'C1666544295',\n",
       "  '21249.0',\n",
       "  '19384.72',\n",
       "  'M2044282225',\n",
       "  '0.0',\n",
       "  '0.0',\n",
       "  '0',\n",
       "  '0']]"
      ]
     },
     "execution_count": 7,
     "metadata": {},
     "output_type": "execute_result"
    }
   ],
   "source": [
    "rdd=rdd.map(lambda line: line.split(\",\"))\n",
    "rdd.take(2)"
   ]
  },
  {
   "cell_type": "code",
   "execution_count": 8,
   "metadata": {},
   "outputs": [],
   "source": [
    "#Converting RDD to Spark Dataframe\n",
    "\n",
    "from pyspark.sql import Row\n",
    "\n",
    "df=rdd.map(lambda line:Row(step=line[0],\n",
    "                        Type=line[1],\n",
    "                        amount=line[2],\n",
    "                        nameOrig=line[3],\n",
    "                        oldbalanceOrg=line[4],\n",
    "                        newbalanceOrig=line[5],\n",
    "                        nameDest=line[6],\n",
    "                        oldbalanceDest=line[7],\n",
    "                        newbalanceDest=line[8],\n",
    "                        isFraud=line[9],\n",
    "                        isFlaggedFraud=line[10])).toDF()"
   ]
  },
  {
   "cell_type": "code",
   "execution_count": 9,
   "metadata": {},
   "outputs": [
    {
     "name": "stdout",
     "output_type": "stream",
     "text": [
      "+--------+--------+--------------+-------+-----------+-----------+--------------+--------------+--------------+-------------+----+\n",
      "|    Type|  amount|isFlaggedFraud|isFraud|   nameDest|   nameOrig|newbalanceDest|newbalanceOrig|oldbalanceDest|oldbalanceOrg|step|\n",
      "+--------+--------+--------------+-------+-----------+-----------+--------------+--------------+--------------+-------------+----+\n",
      "| PAYMENT| 9839.64|             0|      0|M1979787155|C1231006815|           0.0|     160296.36|           0.0|     170136.0|   1|\n",
      "| PAYMENT| 1864.28|             0|      0|M2044282225|C1666544295|           0.0|      19384.72|           0.0|      21249.0|   1|\n",
      "|TRANSFER|   181.0|             0|      1| C553264065|C1305486145|           0.0|           0.0|           0.0|        181.0|   1|\n",
      "|CASH_OUT|   181.0|             0|      1|  C38997010| C840083671|           0.0|           0.0|       21182.0|        181.0|   1|\n",
      "| PAYMENT|11668.14|             0|      0|M1230701703|C2048537720|           0.0|      29885.86|           0.0|      41554.0|   1|\n",
      "| PAYMENT| 7817.71|             0|      0| M573487274|  C90045638|           0.0|      46042.29|           0.0|      53860.0|   1|\n",
      "| PAYMENT| 7107.77|             0|      0| M408069119| C154988899|           0.0|     176087.23|           0.0|     183195.0|   1|\n",
      "| PAYMENT| 7861.64|             0|      0| M633326333|C1912850431|           0.0|     168225.59|           0.0|    176087.23|   1|\n",
      "| PAYMENT| 4024.36|             0|      0|M1176932104|C1265012928|           0.0|           0.0|           0.0|       2671.0|   1|\n",
      "|   DEBIT| 5337.77|             0|      0| C195600860| C712410124|      40348.79|      36382.23|       41898.0|      41720.0|   1|\n",
      "+--------+--------+--------------+-------+-----------+-----------+--------------+--------------+--------------+-------------+----+\n",
      "only showing top 10 rows\n",
      "\n"
     ]
    }
   ],
   "source": [
    "df.show(10)"
   ]
  },
  {
   "cell_type": "code",
   "execution_count": 10,
   "metadata": {},
   "outputs": [
    {
     "name": "stdout",
     "output_type": "stream",
     "text": [
      "root\n",
      " |-- Type: string (nullable = true)\n",
      " |-- amount: string (nullable = true)\n",
      " |-- isFlaggedFraud: string (nullable = true)\n",
      " |-- isFraud: string (nullable = true)\n",
      " |-- nameDest: string (nullable = true)\n",
      " |-- nameOrig: string (nullable = true)\n",
      " |-- newbalanceDest: string (nullable = true)\n",
      " |-- newbalanceOrig: string (nullable = true)\n",
      " |-- oldbalanceDest: string (nullable = true)\n",
      " |-- oldbalanceOrg: string (nullable = true)\n",
      " |-- step: string (nullable = true)\n",
      "\n"
     ]
    }
   ],
   "source": [
    "df.printSchema()"
   ]
  },
  {
   "cell_type": "code",
   "execution_count": 11,
   "metadata": {},
   "outputs": [],
   "source": [
    "#Note that all columns are of string type. So we need to change those to proper types"
   ]
  },
  {
   "cell_type": "code",
   "execution_count": 12,
   "metadata": {},
   "outputs": [],
   "source": [
    "#Converting \"type\" to integer category\n",
    "\n",
    "from pyspark.ml.feature import StringIndexer\n",
    "indexer = StringIndexer(inputCol=\"Type\", outputCol=\"Type_t\")\n",
    "indexed = indexer.fit(df).transform(df)"
   ]
  },
  {
   "cell_type": "code",
   "execution_count": 13,
   "metadata": {},
   "outputs": [],
   "source": [
    "#Changing the columns to proper types\n",
    "\n",
    "from pyspark.sql.types import *\n",
    "def changeType(columnName,t): #t=type\n",
    "    global indexed\n",
    "    indexed=indexed.withColumn(columnName,indexed[columnName].cast(t()))\n",
    "\n",
    "changeType(\"amount\",FloatType)\n",
    "changeType(\"newbalanceDest\",FloatType)\n",
    "changeType(\"newbalanceOrig\",FloatType)\n",
    "changeType(\"oldbalanceDest\",FloatType)\n",
    "changeType(\"oldbalanceOrg\",FloatType)\n",
    "changeType(\"isFlaggedFraud\",IntegerType)\n",
    "changeType(\"isFraud\",IntegerType)\n",
    "changeType(\"step\",IntegerType)"
   ]
  },
  {
   "cell_type": "code",
   "execution_count": 14,
   "metadata": {},
   "outputs": [
    {
     "name": "stdout",
     "output_type": "stream",
     "text": [
      "+--------+---------+--------------+-------+-----------+-----------+--------------+--------------+--------------+-------------+----+------+\n",
      "|    Type|   amount|isFlaggedFraud|isFraud|   nameDest|   nameOrig|newbalanceDest|newbalanceOrig|oldbalanceDest|oldbalanceOrg|step|Type_t|\n",
      "+--------+---------+--------------+-------+-----------+-----------+--------------+--------------+--------------+-------------+----+------+\n",
      "| PAYMENT|  9839.64|             0|      0|M1979787155|C1231006815|           0.0|     160296.36|           0.0|     170136.0|   1|   1.0|\n",
      "| PAYMENT|  1864.28|             0|      0|M2044282225|C1666544295|           0.0|      19384.72|           0.0|      21249.0|   1|   1.0|\n",
      "|TRANSFER|    181.0|             0|      1| C553264065|C1305486145|           0.0|           0.0|           0.0|        181.0|   1|   3.0|\n",
      "|CASH_OUT|    181.0|             0|      1|  C38997010| C840083671|           0.0|           0.0|       21182.0|        181.0|   1|   0.0|\n",
      "| PAYMENT| 11668.14|             0|      0|M1230701703|C2048537720|           0.0|      29885.86|           0.0|      41554.0|   1|   1.0|\n",
      "| PAYMENT|  7817.71|             0|      0| M573487274|  C90045638|           0.0|      46042.29|           0.0|      53860.0|   1|   1.0|\n",
      "| PAYMENT|  7107.77|             0|      0| M408069119| C154988899|           0.0|     176087.23|           0.0|     183195.0|   1|   1.0|\n",
      "| PAYMENT|  7861.64|             0|      0| M633326333|C1912850431|           0.0|      168225.6|           0.0|    176087.23|   1|   1.0|\n",
      "| PAYMENT|  4024.36|             0|      0|M1176932104|C1265012928|           0.0|           0.0|           0.0|       2671.0|   1|   1.0|\n",
      "|   DEBIT|  5337.77|             0|      0| C195600860| C712410124|      40348.79|      36382.23|       41898.0|      41720.0|   1|   4.0|\n",
      "|   DEBIT|  9644.94|             0|      0| C997608398|C1900366749|     157982.12|           0.0|       10845.0|       4465.0|   1|   4.0|\n",
      "| PAYMENT|  3099.97|             0|      0|M2096539129| C249177573|           0.0|      17671.03|           0.0|      20771.0|   1|   1.0|\n",
      "| PAYMENT|  2560.74|             0|      0| M972865270|C1648232591|           0.0|       2509.26|           0.0|       5070.0|   1|   1.0|\n",
      "| PAYMENT| 11633.76|             0|      0| M801569151|C1716932897|           0.0|           0.0|           0.0|      10127.0|   1|   1.0|\n",
      "| PAYMENT|  4098.78|             0|      0|M1635378213|C1026483832|           0.0|     499165.22|           0.0|     503264.0|   1|   1.0|\n",
      "|CASH_OUT|229133.94|             0|      0| C476402209| C905080434|      51513.44|           0.0|        5083.0|      15325.0|   1|   0.0|\n",
      "| PAYMENT|  1563.82|             0|      0|M1731217984| C761750706|           0.0|           0.0|           0.0|        450.0|   1|   1.0|\n",
      "| PAYMENT|  1157.86|             0|      0|M1877062907|C1237762639|           0.0|      19998.14|           0.0|      21156.0|   1|   1.0|\n",
      "| PAYMENT|   671.64|             0|      0| M473053293|C2033524545|           0.0|      14451.36|           0.0|      15123.0|   1|   1.0|\n",
      "|TRANSFER| 215310.3|             0|      0|C1100439041|C1670993182|           0.0|           0.0|       22425.0|        705.0|   1|   3.0|\n",
      "+--------+---------+--------------+-------+-----------+-----------+--------------+--------------+--------------+-------------+----+------+\n",
      "only showing top 20 rows\n",
      "\n"
     ]
    }
   ],
   "source": [
    "indexed.show()"
   ]
  },
  {
   "cell_type": "code",
   "execution_count": 15,
   "metadata": {},
   "outputs": [],
   "source": [
    "# Enable Arrow-based columnar data transfers\n",
    "\n",
    "spark.conf.set(\"spark.sql.execution.arrow.enabled\", \"true\")"
   ]
  },
  {
   "cell_type": "code",
   "execution_count": 16,
   "metadata": {},
   "outputs": [],
   "source": [
    "# Convert the Spark DataFrame back to a Pandas DataFrame using Arrow\n",
    "#This could be used for plotting graphs using plotnine's ggplot\n",
    "\n",
    "result_pdf = indexed.select(\"*\").toPandas()"
   ]
  },
  {
   "cell_type": "code",
   "execution_count": 17,
   "metadata": {},
   "outputs": [],
   "source": [
    "from pyspark.sql import *\n",
    "sqlContext = SQLContext(sc)\n",
    "indexed.createOrReplaceTempView(\"table\")"
   ]
  },
  {
   "cell_type": "code",
   "execution_count": 18,
   "metadata": {},
   "outputs": [],
   "source": [
    "#Count the number of cases under fraud and not fraud categories\n",
    "#1 is for fraud and 0 means not fraud\n",
    "\n",
    "query=\"SELECT ISFRAUD,COUNT(ISFRAUD) AS COUNTS FROM TABLE GROUP BY ISFRAUD\"\n",
    "result=spark.sql(query)"
   ]
  },
  {
   "cell_type": "code",
   "execution_count": 19,
   "metadata": {},
   "outputs": [
    {
     "name": "stdout",
     "output_type": "stream",
     "text": [
      "+-------+-------+\n",
      "|ISFRAUD| COUNTS|\n",
      "+-------+-------+\n",
      "|      1|   8213|\n",
      "|      0|6354407|\n",
      "+-------+-------+\n",
      "\n"
     ]
    }
   ],
   "source": [
    "result.show()"
   ]
  },
  {
   "cell_type": "code",
   "execution_count": 20,
   "metadata": {},
   "outputs": [],
   "source": [
    "from plotnine import *\n",
    "%matplotlib inline"
   ]
  },
  {
   "cell_type": "code",
   "execution_count": 21,
   "metadata": {},
   "outputs": [
    {
     "data": {
      "image/png": "[encoded data removed]",
      "text/plain": [
       "<Figure size 640x480 with 1 Axes>"
      ]
     },
     "metadata": {},
     "output_type": "display_data"
    },
    {
     "data": {
      "text/plain": [
       "<ggplot: (122891731085)>"
      ]
     },
     "execution_count": 21,
     "metadata": {},
     "output_type": "execute_result"
    }
   ],
   "source": [
    "#Plots the number of transactions under various categories\n",
    "\n",
    "(ggplot(result_pdf)                      # defining what data to use\n",
    " + aes(x='Type',fill='Type')             # defining what variable to use\n",
    " + geom_bar()                            # defining the type of plot to use\n",
    " + labs(title='Types of Transactions'))"
   ]
  },
  {
   "cell_type": "code",
   "execution_count": 22,
   "metadata": {},
   "outputs": [],
   "source": [
    "#We observe that most transactions are either CashOut or Payment and Debits are the least"
   ]
  },
  {
   "cell_type": "code",
   "execution_count": 23,
   "metadata": {},
   "outputs": [],
   "source": [
    "#Only the fraud transactions as a subset of the table\n",
    "\n",
    "query=\"SELECT * FROM TABLE WHERE ISFRAUD=1\"\n",
    "result=spark.sql(query)\n",
    "result_df=result.toPandas()"
   ]
  },
  {
   "cell_type": "code",
   "execution_count": 24,
   "metadata": {
    "scrolled": true
   },
   "outputs": [
    {
     "data": {
      "image/png": "[encoded data removed]",
      "text/plain": [
       "<Figure size 640x480 with 1 Axes>"
      ]
     },
     "metadata": {},
     "output_type": "display_data"
    },
    {
     "data": {
      "text/plain": [
       "<ggplot: (122892049451)>"
      ]
     },
     "execution_count": 24,
     "metadata": {},
     "output_type": "execute_result"
    }
   ],
   "source": [
    "#Plots the number of fraud transactions under various categories\n",
    "\n",
    "(ggplot(result_df)\n",
    "+aes(x='Type',fill='Type')\n",
    "+geom_bar(size=15)\n",
    "+labs(title='Types of Fraud Transactions')\n",
    "+scale_fill_brewer(type='div'))"
   ]
  },
  {
   "cell_type": "code",
   "execution_count": 25,
   "metadata": {},
   "outputs": [],
   "source": [
    "#We observe that fraud transactions are only under the categories of CashOut and Transfer\n",
    "#It may be that the money is first transferred to the fraud account and then its cashed out"
   ]
  },
  {
   "cell_type": "code",
   "execution_count": 26,
   "metadata": {},
   "outputs": [],
   "source": [
    "#Now preparing the data for machine learning\n",
    "\n",
    "from pyspark.ml.linalg import Vectors\n",
    "from pyspark.ml.feature import VectorAssembler\n",
    "\n",
    "assembler = VectorAssembler(\n",
    "    inputCols=[\"Type_t\",\"amount\",\"newbalanceDest\",\"newbalanceOrig\",\"oldbalanceDest\",\"oldbalanceOrg\",\"step\"],\n",
    "    outputCol=\"features\")"
   ]
  },
  {
   "cell_type": "code",
   "execution_count": 27,
   "metadata": {},
   "outputs": [],
   "source": [
    "output = assembler.transform(indexed)"
   ]
  },
  {
   "cell_type": "code",
   "execution_count": 28,
   "metadata": {},
   "outputs": [],
   "source": [
    "output = output.select(\"features\",\"isFraud\")"
   ]
  },
  {
   "cell_type": "code",
   "execution_count": 29,
   "metadata": {},
   "outputs": [],
   "source": [
    "output=output.withColumnRenamed(\"isFraud\", \"label\")"
   ]
  },
  {
   "cell_type": "code",
   "execution_count": 30,
   "metadata": {},
   "outputs": [
    {
     "name": "stdout",
     "output_type": "stream",
     "text": [
      "+--------------------+-----+\n",
      "|            features|label|\n",
      "+--------------------+-----+\n",
      "|[1.0,9839.6396484...|    0|\n",
      "|[1.0,1864.2800292...|    0|\n",
      "|[3.0,181.0,0.0,0....|    1|\n",
      "|[0.0,181.0,0.0,0....|    1|\n",
      "|[1.0,11668.139648...|    0|\n",
      "+--------------------+-----+\n",
      "only showing top 5 rows\n",
      "\n"
     ]
    }
   ],
   "source": [
    "output.show(5)"
   ]
  },
  {
   "cell_type": "code",
   "execution_count": 31,
   "metadata": {},
   "outputs": [
    {
     "name": "stdout",
     "output_type": "stream",
     "text": [
      "root\n",
      " |-- features: vector (nullable = true)\n",
      " |-- label: integer (nullable = true)\n",
      "\n"
     ]
    }
   ],
   "source": [
    "output.printSchema()"
   ]
  },
  {
   "cell_type": "code",
   "execution_count": 32,
   "metadata": {},
   "outputs": [],
   "source": [
    "# Split the data into training and test sets (30% held out for testing)\n",
    "(trainingData, testData) = output.randomSplit([0.7, 0.3])"
   ]
  },
  {
   "cell_type": "code",
   "execution_count": null,
   "metadata": {},
   "outputs": [],
   "source": []
  },
  {
   "cell_type": "code",
   "execution_count": 33,
   "metadata": {},
   "outputs": [],
   "source": [
    "#Trying the Logistic Regression Classification model\n",
    "\n",
    "from pyspark.ml.classification import LogisticRegression\n",
    "\n",
    "lr = LogisticRegression(featuresCol = 'features', labelCol = 'label', maxIter=10)\n",
    "\n",
    "# Fit the model\n",
    "lrModel = lr.fit(trainingData)\n",
    "\n",
    "predictions=lrModel.transform(testData)"
   ]
  },
  {
   "cell_type": "code",
   "execution_count": 34,
   "metadata": {},
   "outputs": [],
   "source": [
    "temp=predictions.select(\"label\",\"prediction\")"
   ]
  },
  {
   "cell_type": "code",
   "execution_count": 35,
   "metadata": {},
   "outputs": [],
   "source": [
    "tp = temp[(temp.label == 1) & (temp.prediction == 1)].count() #true positive\n",
    "tn = temp[(temp.label == 0) & (temp.prediction == 0)].count() #true negative\n",
    "fp = temp[(temp.label == 0) & (temp.prediction == 1)].count() #false positive\n",
    "fn = temp[(temp.label == 1) & (temp.prediction == 0)].count() #false negative"
   ]
  },
  {
   "cell_type": "code",
   "execution_count": 36,
   "metadata": {},
   "outputs": [],
   "source": [
    "#Let's say for your business the goal is to avoid fraud at all costs, \n",
    "#then one would strive to achieve as high recall values as possible. \n",
    "#But if it matters to you that you don't predict non-fraud cases as fraud, \n",
    "#maybe because it hurts customer-sentiment, precision is more important."
   ]
  },
  {
   "cell_type": "code",
   "execution_count": 39,
   "metadata": {},
   "outputs": [],
   "source": [
    "#As we are just doing this to get accustomed to using Spark for Machine Learning and we wish to seek a balance between both \n",
    "#precision and recall, we can consider taking a look at the F1 score which is just a weighted average of both."
   ]
  },
  {
   "cell_type": "code",
   "execution_count": 40,
   "metadata": {},
   "outputs": [
    {
     "name": "stdout",
     "output_type": "stream",
     "text": [
      "F1 Score =  0.21641791044776118\n"
     ]
    }
   ],
   "source": [
    "precision=tp/(tp+fp)\n",
    "\n",
    "recall=tp/(tp+fn)\n",
    "\n",
    "f1=2*precision*recall/(precision+recall)\n",
    "\n",
    "print(\"F1 Score = \",f1)"
   ]
  },
  {
   "cell_type": "code",
   "execution_count": null,
   "metadata": {},
   "outputs": [],
   "source": []
  },
  {
   "cell_type": "code",
   "execution_count": 41,
   "metadata": {},
   "outputs": [],
   "source": [
    "#Trying the random forest classification model\n",
    "\n",
    "from pyspark.ml.classification import RandomForestClassifier\n",
    "\n",
    "rf = RandomForestClassifier(labelCol=\"label\", featuresCol=\"features\", numTrees=5)\n",
    "\n",
    "model=rf.fit(trainingData)\n",
    "\n",
    "predictions=model.transform(testData)"
   ]
  },
  {
   "cell_type": "code",
   "execution_count": 42,
   "metadata": {},
   "outputs": [],
   "source": [
    "#Saving the model\n",
    "\n",
    "model.save(\"randomForest.model\")"
   ]
  },
  {
   "cell_type": "code",
   "execution_count": 43,
   "metadata": {},
   "outputs": [],
   "source": [
    "#Just trying out the method to use a saved model\n",
    "\n",
    "from pyspark.ml.classification import RandomForestClassificationModel\n",
    "sameModel = RandomForestClassificationModel.load(\"randomForest.model\")"
   ]
  },
  {
   "cell_type": "code",
   "execution_count": 44,
   "metadata": {},
   "outputs": [],
   "source": [
    "predictions=sameModel.transform(testData)\n",
    "temp=predictions.select(\"label\",\"prediction\")"
   ]
  },
  {
   "cell_type": "code",
   "execution_count": 45,
   "metadata": {},
   "outputs": [],
   "source": [
    "tp = temp[(temp.label == 1) & (temp.prediction == 1)].count() #true positive\n",
    "tn = temp[(temp.label == 0) & (temp.prediction == 0)].count() #true negative\n",
    "fp = temp[(temp.label == 0) & (temp.prediction == 1)].count() #false positive\n",
    "fn = temp[(temp.label == 1) & (temp.prediction == 0)].count() #false negative"
   ]
  },
  {
   "cell_type": "code",
   "execution_count": 46,
   "metadata": {},
   "outputs": [
    {
     "name": "stdout",
     "output_type": "stream",
     "text": [
      "F1 Score =  0.6486793524566884\n"
     ]
    }
   ],
   "source": [
    "precision=tp/(tp+fp)\n",
    "\n",
    "recall=tp/(tp+fn)\n",
    "\n",
    "f1=2*precision*recall/(precision+recall)\n",
    "\n",
    "print(\"F1 Score = \",f1)"
   ]
  },
  {
   "cell_type": "code",
   "execution_count": null,
   "metadata": {},
   "outputs": [],
   "source": []
  },
  {
   "cell_type": "code",
   "execution_count": 47,
   "metadata": {},
   "outputs": [],
   "source": [
    "#We may consider using the Random Forest classification model above as of now (till I work on a better model)."
   ]
  }
 ],
 "metadata": {
  "kernelspec": {
   "display_name": "Python 3",
   "language": "python",
   "name": "python3"
  },
  "language_info": {
   "codemirror_mode": {
    "name": "ipython",
    "version": 3
   },
   "file_extension": ".py",
   "mimetype": "text/x-python",
   "name": "python",
   "nbconvert_exporter": "python",
   "pygments_lexer": "ipython3",
   "version": "3.6.7"
  }
 },
 "nbformat": 4,
 "nbformat_minor": 2
}
