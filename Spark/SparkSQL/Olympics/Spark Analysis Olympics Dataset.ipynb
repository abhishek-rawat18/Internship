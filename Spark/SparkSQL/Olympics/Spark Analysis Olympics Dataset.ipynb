{
 "cells": [
  {
   "cell_type": "code",
   "execution_count": 1,
   "metadata": {},
   "outputs": [
    {
     "data": {
      "text/html": [
       "\n",
       "        <div>\n",
       "            <p><b>SparkContext</b></p>\n",
       "\n",
       "            <p><a href=\"http://AbhishekRawat:4040\">Spark UI</a></p>\n",
       "\n",
       "            <dl>\n",
       "              <dt>Version</dt>\n",
       "                <dd><code>v2.3.3</code></dd>\n",
       "              <dt>Master</dt>\n",
       "                <dd><code>local[*]</code></dd>\n",
       "              <dt>AppName</dt>\n",
       "                <dd><code>PySparkShell</code></dd>\n",
       "            </dl>\n",
       "        </div>\n",
       "        "
      ],
      "text/plain": [
       "<SparkContext master=local[*] appName=PySparkShell>"
      ]
     },
     "execution_count": 1,
     "metadata": {},
     "output_type": "execute_result"
    }
   ],
   "source": [
    "sc"
   ]
  },
  {
   "cell_type": "code",
   "execution_count": 2,
   "metadata": {},
   "outputs": [],
   "source": [
    "from pyspark.sql import SparkSession"
   ]
  },
  {
   "cell_type": "code",
   "execution_count": 51,
   "metadata": {},
   "outputs": [],
   "source": [
    "spark=SparkSession.builder\\\n",
    "    .appName(\"Olympics\")\\\n",
    "    .getOrCreate()"
   ]
  },
  {
   "cell_type": "code",
   "execution_count": 52,
   "metadata": {},
   "outputs": [],
   "source": [
    "rdd=sc.textFile('c:/users/abhishek/Downloads/olympics_data.csv')"
   ]
  },
  {
   "cell_type": "code",
   "execution_count": 53,
   "metadata": {},
   "outputs": [
    {
     "data": {
      "text/plain": [
       "['Michael Phelps\\t23\\tUnited States\\t2008\\t08-24-08\\tSwimming\\t8\\t0\\t0\\t8',\n",
       " 'Michael Phelps\\t19\\tUnited States\\t2004\\t08-29-04\\tSwimming\\t6\\t0\\t2\\t8']"
      ]
     },
     "execution_count": 53,
     "metadata": {},
     "output_type": "execute_result"
    }
   ],
   "source": [
    "rdd.take(2)"
   ]
  },
  {
   "cell_type": "code",
   "execution_count": 54,
   "metadata": {},
   "outputs": [],
   "source": [
    "rdd=rdd.map(lambda line: line.split('\\t'))"
   ]
  },
  {
   "cell_type": "code",
   "execution_count": 55,
   "metadata": {},
   "outputs": [
    {
     "data": {
      "text/plain": [
       "[['Michael Phelps',\n",
       "  '23',\n",
       "  'United States',\n",
       "  '2008',\n",
       "  '08-24-08',\n",
       "  'Swimming',\n",
       "  '8',\n",
       "  '0',\n",
       "  '0',\n",
       "  '8'],\n",
       " ['Michael Phelps',\n",
       "  '19',\n",
       "  'United States',\n",
       "  '2004',\n",
       "  '08-29-04',\n",
       "  'Swimming',\n",
       "  '6',\n",
       "  '0',\n",
       "  '2',\n",
       "  '8']]"
      ]
     },
     "execution_count": 55,
     "metadata": {},
     "output_type": "execute_result"
    }
   ],
   "source": [
    "rdd.take(2)"
   ]
  },
  {
   "cell_type": "code",
   "execution_count": 56,
   "metadata": {},
   "outputs": [],
   "source": [
    "from pyspark.sql import Row"
   ]
  },
  {
   "cell_type": "code",
   "execution_count": 57,
   "metadata": {},
   "outputs": [],
   "source": [
    "df=rdd.map(lambda line:Row(Athelete=line[0],\n",
    "                           Age=line[1],\n",
    "                           Country=line[2],\n",
    "                           Year=line[3],\n",
    "                           ClosingDate=line[4],\n",
    "                           Sport=line[5],\n",
    "                           GoldMedals=line[6],\n",
    "                           SilverMedals=line[7],\n",
    "                           BronzeMedals=line[8],\n",
    "                           TotalMedals=line[9])).toDF()"
   ]
  },
  {
   "cell_type": "code",
   "execution_count": 58,
   "metadata": {},
   "outputs": [
    {
     "name": "stdout",
     "output_type": "stream",
     "text": [
      "+---+--------------------+------------+-----------+-------------+----------+------------+--------------------+-----------+----+\n",
      "|Age|            Athelete|BronzeMedals|ClosingDate|      Country|GoldMedals|SilverMedals|               Sport|TotalMedals|Year|\n",
      "+---+--------------------+------------+-----------+-------------+----------+------------+--------------------+-----------+----+\n",
      "| 23|      Michael Phelps|           0|   08-24-08|United States|         8|           0|            Swimming|          8|2008|\n",
      "| 19|      Michael Phelps|           2|   08-29-04|United States|         6|           0|            Swimming|          8|2004|\n",
      "| 27|      Michael Phelps|           0|   08-12-12|United States|         4|           2|            Swimming|          6|2012|\n",
      "| 25|    Natalie Coughlin|           3|   08-24-08|United States|         1|           2|            Swimming|          6|2008|\n",
      "| 24|       Aleksey Nemov|           3|   10-01-00|       Russia|         2|           1|          Gymnastics|          6|2000|\n",
      "| 24|       Alicia Coutts|           1|   08-12-12|    Australia|         1|           3|            Swimming|          5|2012|\n",
      "| 17|      Missy Franklin|           1|   08-12-12|United States|         4|           0|            Swimming|          5|2012|\n",
      "| 27|         Ryan Lochte|           1|   08-12-12|United States|         2|           2|            Swimming|          5|2012|\n",
      "| 22|     Allison Schmitt|           1|   08-12-12|United States|         3|           1|            Swimming|          5|2012|\n",
      "| 21|    Natalie Coughlin|           1|   08-29-04|United States|         2|           2|            Swimming|          5|2004|\n",
      "| 17|          Ian Thorpe|           0|   10-01-00|    Australia|         3|           2|            Swimming|          5|2000|\n",
      "| 33|         Dara Torres|           3|   10-01-00|United States|         2|           0|            Swimming|          5|2000|\n",
      "| 26|       Cindy Klassen|           2|   02-26-06|       Canada|         1|           2|       Speed Skating|          5|2006|\n",
      "| 18|       Nastia Liukin|           1|   08-24-08|United States|         1|           3|          Gymnastics|          5|2008|\n",
      "| 29|       Marit Bjørgen|           1|   02-28-10|       Norway|         3|           1|Cross Country Skiing|          5|2010|\n",
      "| 20|            Sun Yang|           1|   08-12-12|        China|         2|           1|            Swimming|          4|2012|\n",
      "| 24|     Kirsty Coventry|           0|   08-24-08|     Zimbabwe|         1|           3|            Swimming|          4|2008|\n",
      "| 23|Libby Lenton-Tric...|           1|   08-24-08|    Australia|         2|           1|            Swimming|          4|2008|\n",
      "| 24|         Ryan Lochte|           2|   08-24-08|United States|         2|           0|            Swimming|          4|2008|\n",
      "| 30|      Inge de Bruijn|           2|   08-29-04|  Netherlands|         1|           1|            Swimming|          4|2004|\n",
      "+---+--------------------+------------+-----------+-------------+----------+------------+--------------------+-----------+----+\n",
      "only showing top 20 rows\n",
      "\n"
     ]
    }
   ],
   "source": [
    "df.show()"
   ]
  },
  {
   "cell_type": "code",
   "execution_count": 65,
   "metadata": {},
   "outputs": [
    {
     "name": "stdout",
     "output_type": "stream",
     "text": [
      "root\n",
      " |-- Age: string (nullable = true)\n",
      " |-- Athelete: string (nullable = true)\n",
      " |-- BronzeMedals: string (nullable = true)\n",
      " |-- ClosingDate: string (nullable = true)\n",
      " |-- Country: string (nullable = true)\n",
      " |-- GoldMedals: string (nullable = true)\n",
      " |-- SilverMedals: string (nullable = true)\n",
      " |-- Sport: string (nullable = true)\n",
      " |-- TotalMedals: string (nullable = true)\n",
      " |-- Year: string (nullable = true)\n",
      "\n"
     ]
    }
   ],
   "source": [
    "df.printSchema()"
   ]
  },
  {
   "cell_type": "code",
   "execution_count": 63,
   "metadata": {},
   "outputs": [],
   "source": [
    "from pyspark.sql.types import *"
   ]
  },
  {
   "cell_type": "code",
   "execution_count": 68,
   "metadata": {},
   "outputs": [],
   "source": [
    "def changeType(columnName):\n",
    "    global df\n",
    "    df=df.withColumn(columnName,df[columnName].cast(IntegerType()))\n",
    "\n",
    "changeType(\"Age\")\n",
    "changeType(\"BronzeMedals\")\n",
    "changeType(\"SilverMedals\")\n",
    "changeType(\"GoldMedals\")\n",
    "changeType(\"TotalMedals\")\n",
    "changeType(\"Year\")"
   ]
  },
  {
   "cell_type": "code",
   "execution_count": 69,
   "metadata": {},
   "outputs": [
    {
     "name": "stdout",
     "output_type": "stream",
     "text": [
      "root\n",
      " |-- Age: integer (nullable = true)\n",
      " |-- Athelete: string (nullable = true)\n",
      " |-- BronzeMedals: integer (nullable = true)\n",
      " |-- ClosingDate: string (nullable = true)\n",
      " |-- Country: string (nullable = true)\n",
      " |-- GoldMedals: integer (nullable = true)\n",
      " |-- SilverMedals: integer (nullable = true)\n",
      " |-- Sport: string (nullable = true)\n",
      " |-- TotalMedals: integer (nullable = true)\n",
      " |-- Year: integer (nullable = true)\n",
      "\n"
     ]
    }
   ],
   "source": [
    "df.printSchema()"
   ]
  },
  {
   "cell_type": "code",
   "execution_count": 87,
   "metadata": {},
   "outputs": [],
   "source": [
    "df.createOrReplaceTempView('table')"
   ]
  },
  {
   "cell_type": "code",
   "execution_count": 119,
   "metadata": {},
   "outputs": [
    {
     "name": "stdout",
     "output_type": "stream",
     "text": [
      "+-------------+------+\n",
      "|      Country|Medals|\n",
      "+-------------+------+\n",
      "|United States|  1312|\n",
      "|       Russia|   768|\n",
      "|      Germany|   629|\n",
      "|    Australia|   609|\n",
      "|        China|   530|\n",
      "|       Canada|   370|\n",
      "|        Italy|   331|\n",
      "|Great Britain|   322|\n",
      "|  Netherlands|   318|\n",
      "|       France|   318|\n",
      "+-------------+------+\n",
      "only showing top 10 rows\n",
      "\n"
     ]
    }
   ],
   "source": [
    "#Top 10 countries that won the max total medals\n",
    "query=\"SELECT Country,SUM(TotalMedals) AS Medals FROM table GROUP BY Country ORDER BY Medals DESC\"\n",
    "Top_medals=spark.sql(query)\n",
    "Top_medals.show(10)"
   ]
  },
  {
   "cell_type": "code",
   "execution_count": 120,
   "metadata": {},
   "outputs": [
    {
     "name": "stdout",
     "output_type": "stream",
     "text": [
      "+----+----------------+\n",
      "|Year|sum(TotalMedals)|\n",
      "+----+----------------+\n",
      "|2000|               1|\n",
      "|2004|               1|\n",
      "|2008|               3|\n",
      "|2012|               6|\n",
      "+----+----------------+\n",
      "\n"
     ]
    }
   ],
   "source": [
    "#Number of medals India won Year Wise\n",
    "query=\"SELECT Year,SUM(TotalMedals) FROM table WHERE Country='India' GROUP BY Year ORDER BY Year\"\n",
    "IN_medals=spark.sql(query)\n",
    "IN_medals.show()"
   ]
  },
  {
   "cell_type": "code",
   "execution_count": 126,
   "metadata": {},
   "outputs": [
    {
     "name": "stdout",
     "output_type": "stream",
     "text": [
      "+-------------+------+\n",
      "|        Sport|Medals|\n",
      "+-------------+------+\n",
      "|     Shooting|     4|\n",
      "|    Wrestling|     3|\n",
      "|       Boxing|     2|\n",
      "|    Badminton|     1|\n",
      "|Weightlifting|     1|\n",
      "+-------------+------+\n",
      "\n"
     ]
    }
   ],
   "source": [
    "#Medals won by India according to sports\n",
    "query=\"SELECT Sport,SUM(TotalMedals) AS Medals FROM table WHERE Country='India' GROUP BY Sport ORDER BY Medals DESC\"\n",
    "IN_Sports=spark.sql(query)\n",
    "IN_Sports.show()"
   ]
  },
  {
   "cell_type": "code",
   "execution_count": 140,
   "metadata": {},
   "outputs": [
    {
     "data": {
      "text/plain": [
       "'Michael Phelps'"
      ]
     },
     "execution_count": 140,
     "metadata": {},
     "output_type": "execute_result"
    }
   ],
   "source": [
    "#Which athelete won the most number of medals\n",
    "rdd.reduce(lambda x,y:x if x[9]>y[9] else y)[0]"
   ]
  },
  {
   "cell_type": "code",
   "execution_count": 141,
   "metadata": {},
   "outputs": [
    {
     "name": "stdout",
     "output_type": "stream",
     "text": [
      "+--------------+\n",
      "|      Athelete|\n",
      "+--------------+\n",
      "|Michael Phelps|\n",
      "+--------------+\n",
      "\n"
     ]
    }
   ],
   "source": [
    "#The above problem can also be done as below\n",
    "query=\"SELECT DISTINCT Athelete FROM table WHERE TotalMedals=(SELECT MAX(TotalMedals) FROM table)\"\n",
    "BestAth=spark.sql(query)\n",
    "BestAth.show()"
   ]
  },
  {
   "cell_type": "code",
   "execution_count": 145,
   "metadata": {},
   "outputs": [
    {
     "name": "stdout",
     "output_type": "stream",
     "text": [
      "+---+----------+------------+-----------+-------+----------+------------+---------+-----------+----+\n",
      "|Age|  Athelete|BronzeMedals|ClosingDate|Country|GoldMedals|SilverMedals|    Sport|TotalMedals|Year|\n",
      "+---+----------+------------+-----------+-------+----------+------------+---------+-----------+----+\n",
      "| 25|Usain Bolt|           0|   08-12-12|Jamaica|         3|           0|Athletics|          3|2012|\n",
      "| 21|Usain Bolt|           0|   08-24-08|Jamaica|         3|           0|Athletics|          3|2008|\n",
      "+---+----------+------------+-----------+-------+----------+------------+---------+-----------+----+\n",
      "\n"
     ]
    }
   ],
   "source": [
    "#Medals won by Usain Bolt\n",
    "df.filter(df[\"Athelete\"]==\"Usain Bolt\").show()"
   ]
  },
  {
   "cell_type": "code",
   "execution_count": null,
   "metadata": {},
   "outputs": [],
   "source": []
  }
 ],
 "metadata": {
  "kernelspec": {
   "display_name": "Python 3",
   "language": "python",
   "name": "python3"
  },
  "language_info": {
   "codemirror_mode": {
    "name": "ipython",
    "version": 3
   },
   "file_extension": ".py",
   "mimetype": "text/x-python",
   "name": "python",
   "nbconvert_exporter": "python",
   "pygments_lexer": "ipython3",
   "version": "3.6.7"
  }
 },
 "nbformat": 4,
 "nbformat_minor": 2
}
